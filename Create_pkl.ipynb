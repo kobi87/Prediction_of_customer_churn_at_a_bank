{
 "cells": [
  {
   "cell_type": "code",
   "execution_count": 37,
   "metadata": {},
   "outputs": [],
   "source": [
    "import pandas as pd\n",
    "import numpy as np\n",
    "from sklearn.ensemble import AdaBoostClassifier, GradientBoostingClassifier, RandomForestClassifier\n",
    "import xgboost\n",
    "from sklearn.ensemble import VotingClassifier\n",
    "from sklearn.metrics import roc_auc_score, roc_curve, recall_score\n",
    "from sklearn.model_selection import train_test_split\n",
    "from sklearn.preprocessing import OneHotEncoder\n",
    "\n",
    "# load dataset\n",
    "data = pd.read_csv('Churn_Modelling.csv')\n",
    "# Remove irrelevant variables as shown above\n",
    "data = data.drop(['RowNumber', 'CustomerId', 'Surname'], axis = 1)\n",
    "\n",
    "# Applying One-Hot encoding to categorical variable\n",
    "col = ['Geography', 'Gender']\n",
    "catg_data = data[col]\n",
    "\n",
    "# Create a categorical boolean mask\n",
    "categorical_feature_mask = catg_data.dtypes == object\n",
    "# Filter categorical columns in a list\n",
    "categorical_cols = catg_data.columns[categorical_feature_mask].tolist()\n",
    "\n",
    "# Create a Boolean Numeric mask\n",
    "Numeric_feature_mask = data.dtypes != object\n",
    "# Filter Numeric columns in a list\n",
    "Numeric_cols = data.columns[Numeric_feature_mask].tolist()\n",
    "\n",
    "# Instantiate the OneHotEncoder object\n",
    "ohe = OneHotEncoder(handle_unknown='ignore', sparse = False)\n",
    "\n",
    "# Apply ohe on categorical data\n",
    "ohe.fit(catg_data[categorical_cols])\n",
    "cat_ohe = ohe.transform(data[categorical_cols])\n",
    "\n",
    "# Apply ohe on new_df (Echo)\n",
    "cat_ohe_new = ohe.transform(echant_ohe_cat)\n",
    "\n",
    "# Create a categorical column DataFrame (hot encoded)\n",
    "ohe_df_categ = pd.DataFrame(cat_ohe, columns = ohe.get_feature_names(input_features = categorical_cols))\n",
    "\n",
    "# Create a Numeric Columns DataFrame\n",
    "df_numer = data.drop(col, axis = 1)\n",
    "\n",
    "# concat with original data and remove original columns\n",
    "df_categ_numer = pd.concat([df_numer, ohe_df_categ], axis=1)\n",
    "df_categ_numer\n",
    "\n",
    "# Spliting target variable and independent variables\n",
    "X = df_categ_numer.drop('Exited', axis=1)\n",
    "y = df_categ_numer.Exited\n",
    "\n",
    "# Splitting the dataset into training data and test data\n",
    "X_train, X_test, y_train, y_test = train_test_split(X, y, test_size = 0.2,random_state=42)"
   ]
  },
  {
   "cell_type": "code",
   "execution_count": 20,
   "metadata": {},
   "outputs": [
    {
     "name": "stdout",
     "output_type": "stream",
     "text": [
      "0.871\n"
     ]
    }
   ],
   "source": [
    "# Import different models \n",
    "from sklearn.ensemble import AdaBoostClassifier, GradientBoostingClassifier, RandomForestClassifier\n",
    "import xgboost\n",
    "from sklearn.ensemble import VotingClassifier\n",
    "from sklearn.metrics import roc_auc_score, roc_curve, recall_score\n",
    "\n",
    "\n",
    "# bestAdaModFitted with optimal parameters\n",
    "bestAdaModFitted = AdaBoostClassifier(base_estimator = None, n_estimators = 21, learning_rate = 1.0)\n",
    "\n",
    "# bestGbModFitted with optimal parameters\n",
    "bestGbModFitted = GradientBoostingClassifier(loss = 'deviance', n_estimators = 67)\n",
    "\n",
    "# bestXgbModFitted with optimal parameters\n",
    "bestXgbModFitted = xgboost.XGBClassifier(base_score=0.5, booster='gbtree', colsample_bylevel=1,\n",
    "              colsample_bynode=1, colsample_bytree=0.5, gamma=0.1, gpu_id=-1,\n",
    "              importance_type='gain', interaction_constraints='',\n",
    "              learning_rate=0.1, max_delta_step=0, max_depth=3,\n",
    "              min_child_weight=3, missing= None, monotone_constraints='()',\n",
    "              n_estimators=100, n_jobs=0, num_parallel_tree=1, random_state=0,\n",
    "              reg_alpha=0, reg_lambda=1, scale_pos_weight=1, subsample=1,\n",
    "              tree_method='exact', validate_parameters=1, verbosity=None)\n",
    "\n",
    "# Voting Model \n",
    "votingMod = VotingClassifier(estimators=[('gb', bestGbModFitted),\n",
    "                                         ('xgb', bestXgbModFitted),\n",
    "                                         ('ada', bestAdaModFitted)],\n",
    "                                         voting = 'soft', weights=[1.5,2,1])\n",
    "# Fitting \n",
    "votingMod = votingMod.fit(X_train, y_train)\n",
    "\n",
    "# Roc_auc score\n",
    "test_labels=votingMod.predict_proba(np.array(X_test))[:,1]\n",
    "print(round(roc_auc_score(y_test, test_labels , average = 'macro', sample_weight = None),4))"
   ]
  },
  {
   "cell_type": "code",
   "execution_count": 21,
   "metadata": {},
   "outputs": [
    {
     "data": {
      "text/plain": [
       "array([0])"
      ]
     },
     "execution_count": 21,
     "metadata": {},
     "output_type": "execute_result"
    }
   ],
   "source": [
    "# Test sample\n",
    "echo_df_test = np.array([596,32,3,96709.07,2,0,0,41788.37,0,1,0,0,1]).reshape(1,13)\n",
    "\n",
    "prediction = votingMod.predict(echo_df_test)\n",
    "prediction"
   ]
  },
  {
   "cell_type": "code",
   "execution_count": 107,
   "metadata": {},
   "outputs": [],
   "source": [
    "# Create a Pickle file using serialization for the best model (votingMod model)\n",
    "import pickle\n",
    "\n",
    "# Saving model to disk\n",
    "pickle.dump(votingMod, open('model.pkl','wb'))"
   ]
  },
  {
   "cell_type": "code",
   "execution_count": 22,
   "metadata": {},
   "outputs": [
    {
     "data": {
      "text/plain": [
       "array([0])"
      ]
     },
     "execution_count": 22,
     "metadata": {},
     "output_type": "execute_result"
    }
   ],
   "source": [
    "# Test pkl model \n",
    "import os\n",
    "import pickle\n",
    "\n",
    "# Apply Model to Make Prediction\n",
    "# Unpickle our model RF so we can use it!\n",
    "if os.path.isfile(\"./model.pkl\"):\n",
    "  model = pickle.load(open(\"./model.pkl\", \"rb\"))\n",
    "else:\n",
    "  raise FileNotFoundError\n",
    "\n",
    "prediction = model.predict(echo_df_test)\n",
    "prediction"
   ]
  },
  {
   "cell_type": "markdown",
   "metadata": {},
   "source": [
    "### Pickle OneHotEncoder"
   ]
  },
  {
   "cell_type": "code",
   "execution_count": 23,
   "metadata": {},
   "outputs": [],
   "source": [
    "# Create a Pickle OneHotEncoder file\n",
    "import pickle\n",
    "\n",
    "# Saving OneHotEncoder model to disk \n",
    "pickle.dump(ohe, open('OneHotEncoder.pkl','wb'))"
   ]
  },
  {
   "cell_type": "code",
   "execution_count": 31,
   "metadata": {},
   "outputs": [
    {
     "data": {
      "text/html": [
       "<div>\n",
       "<style scoped>\n",
       "    .dataframe tbody tr th:only-of-type {\n",
       "        vertical-align: middle;\n",
       "    }\n",
       "\n",
       "    .dataframe tbody tr th {\n",
       "        vertical-align: top;\n",
       "    }\n",
       "\n",
       "    .dataframe thead th {\n",
       "        text-align: right;\n",
       "    }\n",
       "</style>\n",
       "<table border=\"1\" class=\"dataframe\">\n",
       "  <thead>\n",
       "    <tr style=\"text-align: right;\">\n",
       "      <th></th>\n",
       "      <th>CreditScore</th>\n",
       "      <th>Age</th>\n",
       "      <th>Tenure</th>\n",
       "      <th>Balance</th>\n",
       "      <th>NumOfProducts</th>\n",
       "      <th>HasCrCard</th>\n",
       "      <th>IsActiveMember</th>\n",
       "      <th>EstimatedSalary</th>\n",
       "      <th>Geography_France</th>\n",
       "      <th>Geography_Germany</th>\n",
       "      <th>Geography_Spain</th>\n",
       "      <th>Gender_Female</th>\n",
       "      <th>Gender_Male</th>\n",
       "    </tr>\n",
       "  </thead>\n",
       "  <tbody>\n",
       "    <tr>\n",
       "      <th>0</th>\n",
       "      <td>596</td>\n",
       "      <td>32</td>\n",
       "      <td>3</td>\n",
       "      <td>96709.07</td>\n",
       "      <td>2</td>\n",
       "      <td>0</td>\n",
       "      <td>0</td>\n",
       "      <td>41788.37</td>\n",
       "      <td>1.0</td>\n",
       "      <td>0.0</td>\n",
       "      <td>0.0</td>\n",
       "      <td>1.0</td>\n",
       "      <td>0.0</td>\n",
       "    </tr>\n",
       "  </tbody>\n",
       "</table>\n",
       "</div>"
      ],
      "text/plain": [
       "   CreditScore  Age  Tenure   Balance  NumOfProducts  HasCrCard  \\\n",
       "0          596   32       3  96709.07              2          0   \n",
       "\n",
       "   IsActiveMember  EstimatedSalary  Geography_France  Geography_Germany  \\\n",
       "0               0         41788.37               1.0                0.0   \n",
       "\n",
       "   Geography_Spain  Gender_Female  Gender_Male  \n",
       "0              0.0            1.0          0.0  "
      ]
     },
     "execution_count": 31,
     "metadata": {},
     "output_type": "execute_result"
    }
   ],
   "source": [
    "# Test sample\n",
    "echant_ohe_cat = [['France', 'Female']]\n",
    "echo_numer =  [[596, 32, 3, 96709.07, 2, 0, 0, 41788.37]]\n",
    "\n",
    "# Apply ohe on new_df (Echo)\n",
    "cat_ohe_new = ohe.transform(echant_ohe_cat)\n",
    "\n",
    "# Create a categorical column DataFrame (hot encoded)\n",
    "echo_ohe_df_categ = pd.DataFrame(cat_ohe_new, columns = ohe.get_feature_names(input_features = categorical_cols))\n",
    "\n",
    "# Create a Numeric Columns DataFrame\n",
    "echo_df_numer = pd.DataFrame(echo_numer, columns=Numeric_cols[:-1])\n",
    "\n",
    "# Concat with original data and remove original columns\n",
    "echo_df_test = pd.concat([echo_df_numer, echo_ohe_df_categ], axis=1)\n",
    "echo_df_test"
   ]
  },
  {
   "cell_type": "code",
   "execution_count": 35,
   "metadata": {},
   "outputs": [
    {
     "data": {
      "text/plain": [
       "array([[1., 0., 0., 1., 0.]])"
      ]
     },
     "execution_count": 35,
     "metadata": {},
     "output_type": "execute_result"
    }
   ],
   "source": [
    "# Test pkl OneHotEncoder \n",
    "import os\n",
    "import pickle\n",
    "\n",
    "# Apply OneHotEncoder \n",
    "if os.path.isfile(\"./OneHotEncoder.pkl\"):\n",
    "  OneHotEncoder = pickle.load(open(\"./OneHotEncoder.pkl\", \"rb\"))\n",
    "else:\n",
    "  raise FileNotFoundError\n",
    "\n",
    "#echo_df_test\n",
    "\n",
    "transform = OneHotEncoder.transform(echant_ohe_cat)\n",
    "transform"
   ]
  },
  {
   "cell_type": "code",
   "execution_count": 36,
   "metadata": {},
   "outputs": [
    {
     "data": {
      "text/plain": [
       "array([[5.960000e+02, 3.200000e+01, 3.000000e+00, 9.670907e+04,\n",
       "        2.000000e+00, 0.000000e+00, 0.000000e+00, 4.178837e+04,\n",
       "        1.000000e+00, 0.000000e+00, 0.000000e+00, 1.000000e+00,\n",
       "        0.000000e+00]])"
      ]
     },
     "execution_count": 36,
     "metadata": {},
     "output_type": "execute_result"
    }
   ],
   "source": [
    "echo_final = np.concatenate((echo_numer, transform), axis=1)\n",
    "echo_final"
   ]
  },
  {
   "cell_type": "code",
   "execution_count": null,
   "metadata": {},
   "outputs": [],
   "source": []
  }
 ],
 "metadata": {
  "kernelspec": {
   "display_name": "Python 3",
   "language": "python",
   "name": "python3"
  },
  "language_info": {
   "codemirror_mode": {
    "name": "ipython",
    "version": 3
   },
   "file_extension": ".py",
   "mimetype": "text/x-python",
   "name": "python",
   "nbconvert_exporter": "python",
   "pygments_lexer": "ipython3",
   "version": "3.8.5"
  }
 },
 "nbformat": 4,
 "nbformat_minor": 4
}
