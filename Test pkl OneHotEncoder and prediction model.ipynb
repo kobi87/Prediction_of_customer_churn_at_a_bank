{
 "cells": [
  {
   "cell_type": "markdown",
   "metadata": {},
   "source": [
    "## Test Pkl OneHotEncoder and prediction model"
   ]
  },
  {
   "cell_type": "code",
   "execution_count": 22,
   "metadata": {},
   "outputs": [],
   "source": [
    "import pandas as pd\n",
    "import numpy as np\n",
    "\n",
    "# Test Sample\n",
    "echant_ohe_cat = [['France', 'Female']]\n",
    "echo_numer =  [[596, 32, 3, 96709.07, 2, 0, 0, 41788.37]]"
   ]
  },
  {
   "cell_type": "markdown",
   "metadata": {},
   "source": [
    "#### 1) Transform categorical features"
   ]
  },
  {
   "cell_type": "code",
   "execution_count": 23,
   "metadata": {},
   "outputs": [
    {
     "data": {
      "text/plain": [
       "array([[1., 0., 0., 1., 0.]])"
      ]
     },
     "execution_count": 23,
     "metadata": {},
     "output_type": "execute_result"
    }
   ],
   "source": [
    "# Transform categorical feature\n",
    "import os\n",
    "import pickle\n",
    "\n",
    "# Apply OneHotEncoder \n",
    "if os.path.isfile(\"./OneHotEncoder.pkl\"):\n",
    "  OneHotEncoder = pickle.load(open(\"./OneHotEncoder.pkl\", \"rb\"))\n",
    "else:\n",
    "  raise FileNotFoundError\n",
    "\n",
    "# Apply the transformation on categorical features\n",
    "transform = OneHotEncoder.transform(echant_ohe_cat)\n",
    "transform"
   ]
  },
  {
   "cell_type": "code",
   "execution_count": 24,
   "metadata": {},
   "outputs": [
    {
     "data": {
      "text/plain": [
       "array([[5.960000e+02, 3.200000e+01, 3.000000e+00, 9.670907e+04,\n",
       "        2.000000e+00, 0.000000e+00, 0.000000e+00, 4.178837e+04,\n",
       "        1.000000e+00, 0.000000e+00, 0.000000e+00, 1.000000e+00,\n",
       "        0.000000e+00]])"
      ]
     },
     "execution_count": 24,
     "metadata": {},
     "output_type": "execute_result"
    }
   ],
   "source": [
    "# Concatenate transform categorical and numeric features \n",
    "echo_final = np.concatenate((echo_numer, transform), axis=1)\n",
    "echo_final"
   ]
  },
  {
   "cell_type": "markdown",
   "metadata": {},
   "source": [
    "#### 2) Apply machine learning pkl model"
   ]
  },
  {
   "cell_type": "code",
   "execution_count": 25,
   "metadata": {},
   "outputs": [
    {
     "data": {
      "text/plain": [
       "array([0])"
      ]
     },
     "execution_count": 25,
     "metadata": {},
     "output_type": "execute_result"
    }
   ],
   "source": [
    "# Apply machine learning pkl model\n",
    "\n",
    "# Unpickle our model so we can use it!\n",
    "if os.path.isfile(\"./model.pkl\"):\n",
    "  model = pickle.load(open(\"./model.pkl\", \"rb\"))\n",
    "else:\n",
    "  raise FileNotFoundError\n",
    "\n",
    "prediction = model.predict(echo_final)\n",
    "prediction"
   ]
  },
  {
   "cell_type": "code",
   "execution_count": 31,
   "metadata": {},
   "outputs": [
    {
     "name": "stdout",
     "output_type": "stream",
     "text": [
      "This customer is more likely to cancel the subscription !\n"
     ]
    }
   ],
   "source": [
    "if prediction[0] == 0:\n",
    "    print(\"This customer is more likely to cancel the subscription !\")\n",
    "else:\n",
    "    print(\"No\")"
   ]
  },
  {
   "cell_type": "code",
   "execution_count": null,
   "metadata": {},
   "outputs": [],
   "source": []
  }
 ],
 "metadata": {
  "kernelspec": {
   "display_name": "Python 3",
   "language": "python",
   "name": "python3"
  },
  "language_info": {
   "codemirror_mode": {
    "name": "ipython",
    "version": 3
   },
   "file_extension": ".py",
   "mimetype": "text/x-python",
   "name": "python",
   "nbconvert_exporter": "python",
   "pygments_lexer": "ipython3",
   "version": "3.8.5"
  }
 },
 "nbformat": 4,
 "nbformat_minor": 4
}
